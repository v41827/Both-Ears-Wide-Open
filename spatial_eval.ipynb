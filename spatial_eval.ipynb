{
 "cells": [
  {
   "cell_type": "code",
   "execution_count": null,
   "id": "4a8399d3",
   "metadata": {},
   "outputs": [],
   "source": [
    "import numpy as np\n",
    "import librosa\n",
    "import scipy.signal as signal\n",
    "import matplotlib.pyplot as plt\n",
    "\n",
    "def load_audio(file_path, sr=44100):\n",
    "    audio, _ = librosa.load(file_path, sr=sr, mono=False)\n",
    "    if audio.ndim != 2 or audio.shape[0] != 2:\n",
    "        raise ValueError(\"Audio must be stereo with shape (2, samples)\")\n",
    "    left = audio[0, :]\n",
    "    right = audio[1, :]\n",
    "    return left, right\n",
    "\n",
    "def calculate_itd(left, right, sr):\n",
    "    # Compute cross-correlation\n",
    "    corr = signal.correlate(left, right, mode='full')\n",
    "    lags = signal.correlation_lags(len(left), len(right), mode='full')\n",
    "    lag = lags[np.argmax(corr)]\n",
    "    itd_seconds = lag / sr\n",
    "    print(f\"Estimated ITD: {itd_seconds*1e6:.2f} microseconds\")\n",
    "    return itd_seconds\n",
    "\n",
    "def calculate_ild(left, right):\n",
    "    # Calculate RMS energy for each channel\n",
    "    rms_left = np.sqrt(np.mean(left**2))\n",
    "    rms_right = np.sqrt(np.mean(right**2))\n",
    "    ild_db = 20 * np.log10(rms_left / (rms_right + 1e-8))  # avoid divide by zero\n",
    "    print(f\"Estimated ILD: {ild_db:.2f} dB\")\n",
    "    return ild_db\n",
    "\n",
    "def plot_waveform(left, right, sr):\n",
    "    time = np.arange(len(left)) / sr\n",
    "    plt.figure(figsize=(10, 4))\n",
    "    plt.plot(time, left, label='Left')\n",
    "    plt.plot(time, right, label='Right', alpha=0.7)\n",
    "    plt.title('Waveform (Left and Right Channels)')\n",
    "    plt.xlabel('Time [s]')\n",
    "    plt.ylabel('Amplitude')\n",
    "    plt.legend()\n",
    "    plt.tight_layout()\n",
    "    plt.show()\n",
    "\n"
   ]
  },
  {
   "cell_type": "code",
   "execution_count": null,
   "id": "13e0025b",
   "metadata": {},
   "outputs": [],
   "source": [
    "# ---------- MAIN SCRIPT ----------\n",
    "\n",
    "file_path = 'your_binaural_audio.wav'  # <-- replace with your file\n",
    "sr = 44100  # sampling rate\n",
    "\n",
    "# Load audio\n",
    "left, right = load_audio(file_path, sr)\n",
    "\n",
    "# Calculate ITD and ILD\n",
    "itd = calculate_itd(left, right, sr)\n",
    "ild = calculate_ild(left, right)\n",
    "\n",
    "# Plot waveform for visual inspection\n",
    "plot_waveform(left, right, sr)"
   ]
  }
 ],
 "metadata": {
  "language_info": {
   "name": "python"
  }
 },
 "nbformat": 4,
 "nbformat_minor": 5
}
